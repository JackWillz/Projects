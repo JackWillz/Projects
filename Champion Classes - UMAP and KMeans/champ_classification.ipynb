{
 "cells": [
  {
   "cell_type": "code",
   "execution_count": 2,
   "metadata": {},
   "outputs": [],
   "source": [
    "import pandas as pd\n",
    "import numpy as np\n",
    "import umap\n",
    "from sklearn.preprocessing import StandardScaler\n",
    "from sklearn.decomposition import PCA\n",
    "from sklearn.compose import ColumnTransformer\n",
    "import seaborn as sns\n",
    "import matplotlib.pyplot as plt\n",
    "import matplotlib.ticker as mtick\n",
    "sns.set_style(\"whitegrid\", {'axes.grid' : False})\n",
    "\n",
    "from sklearn.cluster import KMeans"
   ]
  },
  {
   "cell_type": "code",
   "execution_count": 3,
   "metadata": {},
   "outputs": [],
   "source": [
    "df = pd.read_csv('final_data2.csv')\n",
    "try:\n",
    "    df.drop('Unnamed: 0', axis= 1, inplace = True)\n",
    "except:\n",
    "    pass\n",
    "avg_lane_stats = df.groupby('Lane').mean()\n",
    "champ_ids = pd.read_csv('champ_ids.csv')\n",
    "champ_ids = champ_ids[['Champ ID', 'Champion']]\n",
    "count_df = df.groupby(['Champ ID', 'Lane']).count()\n",
    "vol_champs = list(count_df[count_df['Tier'] > 200].index)\n",
    "agg_df = df.groupby(['Champ ID', 'Lane']).mean()\n",
    "final_df = agg_df[agg_df.index.isin(vol_champs)].reset_index()\n",
    "final_df.set_index('Champ ID', drop= True, inplace= True)"
   ]
  },
  {
   "cell_type": "code",
   "execution_count": 22,
   "metadata": {
    "scrolled": true
   },
   "outputs": [
    {
     "data": {
      "text/plain": [
       "Index(['Champ ID', 'Lane', 'Tier', 'Result', 'kills', 'deaths', 'assists',\n",
       "       'largestKillingSpree', 'largestMultiKill', 'killingSprees',\n",
       "       'longestTimeSpentLiving', 'totalDamageDealt', 'magicDamageDealt',\n",
       "       'physicalDamageDealt', 'trueDamageDealt', 'largestCriticalStrike',\n",
       "       'totalDamageDealtToChampions', 'magicDamageDealtToChampions',\n",
       "       'trueDamageDealtToChampions', 'totalHeal', 'damageSelfMitigated',\n",
       "       'damageDealtToObjectives', 'damageDealtToTurrets', 'timeCCingOthers',\n",
       "       'totalDamageTaken', 'goldEarned', 'turretKills', 'inhibitorKills',\n",
       "       'totalMinionsKilled', 'totalTimeCrowdControlDealt',\n",
       "       'neutralMinionsKilled', 'neutralMinionsKilledTeamJungle',\n",
       "       'neutralMinionsKilledEnemyJungle', 'firstBloodKill', 'firstBloodAssist',\n",
       "       'firstTowerKill', 'firstTowerAssist', 'first10_xpm', 'first10_gpm',\n",
       "       'soloKills', 'earlyGanks', 'drakesKilled'],\n",
       "      dtype='object')"
      ]
     },
     "execution_count": 22,
     "metadata": {},
     "output_type": "execute_result"
    }
   ],
   "source": [
    "df.columns"
   ]
  },
  {
   "cell_type": "code",
   "execution_count": 23,
   "metadata": {},
   "outputs": [
    {
     "data": {
      "text/plain": [
       "42"
      ]
     },
     "execution_count": 23,
     "metadata": {},
     "output_type": "execute_result"
    }
   ],
   "source": [
    "len(df.columns)"
   ]
  },
  {
   "cell_type": "code",
   "execution_count": 5,
   "metadata": {},
   "outputs": [],
   "source": [
    "top_df = final_df[final_df['Lane'] == 'top'].drop('Lane', axis = 1)\n",
    "jung_df = final_df[final_df['Lane'] == 'jungle'].drop('Lane', axis = 1)\n",
    "mid_df = final_df[final_df['Lane'] == 'middle'].drop('Lane', axis = 1)\n",
    "adc_df = final_df[final_df['Lane'] == 'adc'].drop('Lane', axis = 1)\n",
    "sup_df = final_df[final_df['Lane'] == 'support'].drop('Lane', axis = 1)\n",
    "sup_df = sup_df[sup_df['totalMinionsKilled']<100]"
   ]
  },
  {
   "cell_type": "code",
   "execution_count": 14,
   "metadata": {},
   "outputs": [],
   "source": [
    "kills = mid_df['kills']\n",
    "gold = mid_df['goldEarned']"
   ]
  },
  {
   "cell_type": "code",
   "execution_count": 21,
   "metadata": {},
   "outputs": [
    {
     "data": {
      "text/plain": [
       "<matplotlib.axes._subplots.AxesSubplot at 0x19283ac1088>"
      ]
     },
     "execution_count": 21,
     "metadata": {},
     "output_type": "execute_result"
    },
    {
     "data": {
      "image/png": "[encoded data removed]",
      "text/plain": [
       "<Figure size 432x288 with 1 Axes>"
      ]
     },
     "metadata": {},
     "output_type": "display_data"
    }
   ],
   "source": [
    "sns.regplot(kills, gold, marker = '.', line_kws={\"color\": \"black\"})"
   ]
  },
  {
   "cell_type": "code",
   "execution_count": null,
   "metadata": {},
   "outputs": [],
   "source": [
    "plt.figure(figsize=(4,4))\n",
    "sns.regplot(list(Xs[i]), list(Ys[i]), data= final_df, marker='.')\n",
    "plt.xlabel(X_labels[i])\n",
    "plt.ylabel(Y_labels[i])\n",
    "plt.tight_layout()"
   ]
  },
  {
   "cell_type": "code",
   "execution_count": 6,
   "metadata": {
    "scrolled": true
   },
   "outputs": [],
   "source": [
    "def standardise_features(df):\n",
    "    scaler = StandardScaler()\n",
    "    df_std = pd.DataFrame(scaler.fit_transform(df))\n",
    "    df_std.columns = df.columns\n",
    "    return df_std, scaler\n",
    "\n",
    "def fit_pca(df_std, num_comps = False):\n",
    "    if num_comps == False:\n",
    "        num_comps = len(df_std.columns)\n",
    "    pca = PCA(n_components= num_comps)\n",
    "    principalComponents = pca.fit_transform(df_std)\n",
    "    pca_str = pca.explained_variance_ratio_\n",
    "    return pca, pca_str\n",
    "\n",
    "def fit_umap(df_std, num_comps = False):\n",
    "    if num_comps == False:\n",
    "        num_comps = 2\n",
    "    reducer = umap.UMAP(n_components = num_comps)\n",
    "    reducer.fit_transform(df_std)\n",
    "    return reducer, None\n",
    "    \n",
    "\n",
    "def draw_component_str(df_std, pca_str):\n",
    "    num_features = len(df_std.columns)\n",
    "    # Plot the variance of each PC\n",
    "    plt.figure(figsize=(12,8))\n",
    "    plt.bar(np.arange(1, num_features + 1), pca_str, color=(0.2, 0.4, 0.6, 0.6),edgecolor='black')\n",
    "    plt.xticks(np.arange(1, num_features + 1))\n",
    "    plt.xlabel('Number of Components',fontweight='bold')\n",
    "    plt.ylabel('Variance (%)',fontweight='bold')\n",
    "    plt.title('Individual Explained Variance',fontweight='bold')\n",
    "    plt.show()\n",
    "    \n",
    "def draw_component_features(df_std, pca, feature = 1):\n",
    "    # Create a table of all the feature strengths for each component\n",
    "    all_comps = []\n",
    "    for i in range(feature):\n",
    "        all_comps.append(pca.components_[i])\n",
    "    var_str = pd.DataFrame(all_comps, columns= df_std.columns, index=range(1, feature + 1)).abs().transpose()\n",
    "\n",
    "    # Plot the varialbes in PC1\n",
    "    plt.figure(figsize=(12,8))\n",
    "    plt.bar(var_str.sort_values(feature, ascending=False)[1].keys(),var_str.sort_values(1,ascending=False)[1],color=(0.2, 0.4, 0.6, 0.6),edgecolor='black')\n",
    "    plt.xticks(rotation=90)\n",
    "    plt.xlabel('Variables',fontweight='bold')\n",
    "    plt.ylabel('Variable Influence',fontweight='bold')\n",
    "    plt.title('Variable Influence on Principle Component 1',fontweight='bold')\n",
    "    \n",
    "    \n",
    "def fit_kmeans(df_std, n_comps, n_clusters, drt= 'PCA'):\n",
    "    if drt == 'PCA':\n",
    "        reducer, pca_str = fit_pca(df_std, num_comps= n_comps)\n",
    "    if drt == 'UMAP':\n",
    "        reducer, pca_str = fit_umap(df_std, num_comps= n_comps)\n",
    "    components = reducer.fit_transform(df_std)\n",
    "    kmeans = KMeans(init=\"random\", n_clusters= n_clusters, n_init= 10, max_iter= 30, random_state= 42)\n",
    "    kmeans.fit(components)\n",
    "    return kmeans, components\n",
    "\n",
    "\n",
    "def predict_classes(kmeans, components, lane_df, champ_ids):\n",
    "    classes = kmeans.predict(components)\n",
    "    champs = lane_df.index\n",
    "    lane_classified = pd.DataFrame({'Class': classes, 'Champ ID': champs})\n",
    "    lane_classified = pd.merge(champ_ids, lane_classified, on = 'Champ ID')\n",
    "    return lane_classified\n",
    "\n",
    "\n",
    "def classify_lane(lane_df, n_comps, n_clusters, drt= 'PCA', vis= False):\n",
    "    df_std, scaler = standardise_features(lane_df)\n",
    "    df_std.drop(['Result'], axis= 1, inplace = True)\n",
    "    if vis != False:\n",
    "        draw_component_features(df_std, pca, 1)\n",
    "        draw_component_str(df_std, pca_str)\n",
    "    kmeans, components = fit_kmeans(df_std, n_comps, n_clusters, drt= drt)\n",
    "    classisfied = predict_classes(kmeans, components, lane_df, champ_ids)\n",
    "    champ_stats_df = pd.merge(lane_df, classisfied, on = 'Champ ID')\n",
    "    class_stats_df = champ_stats_df.groupby('Class').mean()\n",
    "    class_stats_df.drop('Champ ID', axis = 1, inplace = True)\n",
    "    return champ_stats_df, class_stats_df, kmeans\n",
    "\n",
    "\n",
    "def sort_four_lists(list_to_sort, list2, list3, list4):\n",
    "    sorted_list, list2, list3, list4 = map(list, zip(*sorted(zip(list_to_sort, list2, list3, list4), reverse = True)))\n",
    "    return sorted_list, list2, list3, list4\n",
    "\n",
    "\n",
    "# Order the stats by the difference from the class to the lane\n",
    "def sort_stats_by_perc_diff(class_stats_df, avg_lane_stats, lane, class_num):\n",
    "    cols = list(class_stats_df.columns)\n",
    "    class_avg_stats, lane_avg_stats, perc_diffs = [], [], []\n",
    "    for col in cols:\n",
    "        class_avg_stat = class_stats_df[col][class_num]\n",
    "        lane_avg_stat = avg_lane_stats[col][lane]\n",
    "        class_avg_stats.append(class_avg_stat)\n",
    "        lane_avg_stats.append(lane_avg_stat)\n",
    "        perc_diffs.append(class_avg_stat / lane_avg_stat)\n",
    "    perc_diffs, cols, class_avg_stats, lane_avg_stats = sort_four_lists(perc_diffs, \n",
    "                                                                                          class_stats_df.columns, \n",
    "                                                                                          class_avg_stats, \n",
    "                                                                                          lane_avg_stats)\n",
    "    col_dict = {}\n",
    "    for i in range(len(cols)):\n",
    "        col_dict[cols[i]] = round(perc_diffs[i], 2), round(class_avg_stats[i], 4), round(lane_avg_stats[i], 4)\n",
    "    return col_dict"
   ]
  },
  {
   "cell_type": "code",
   "execution_count": 7,
   "metadata": {},
   "outputs": [],
   "source": [
    "# To change lane, switch adc_df to mid_df, and so on. \n",
    "lane_to_classify = adc_df\n",
    "# Numbers of components compressed to during feature reduction\n",
    "n_comps = 5\n",
    "# Number of classes created\n",
    "n_clusters = 4\n",
    "# Technique used (PCA or UMAP)\n",
    "technique = 'UMAP'\n",
    "# Turn of plot prints, can be enabled only with PCA (UMAP can't provide variable strengths metrics)\n",
    "vis = False\n",
    "mega_df, stats_df, kmeans = classify_lane(lane_to_classify, n_comps, n_clusters, techinique, vis)"
   ]
  },
  {
   "cell_type": "code",
   "execution_count": 25,
   "metadata": {},
   "outputs": [
    {
     "data": {
      "text/html": [
       "<div>\n",
       "<style scoped>\n",
       "    .dataframe tbody tr th:only-of-type {\n",
       "        vertical-align: middle;\n",
       "    }\n",
       "\n",
       "    .dataframe tbody tr th {\n",
       "        vertical-align: top;\n",
       "    }\n",
       "\n",
       "    .dataframe thead th {\n",
       "        text-align: right;\n",
       "    }\n",
       "</style>\n",
       "<table border=\"1\" class=\"dataframe\">\n",
       "  <thead>\n",
       "    <tr style=\"text-align: right;\">\n",
       "      <th></th>\n",
       "      <th>Result</th>\n",
       "      <th>kills</th>\n",
       "      <th>deaths</th>\n",
       "      <th>assists</th>\n",
       "      <th>largestKillingSpree</th>\n",
       "      <th>largestMultiKill</th>\n",
       "      <th>killingSprees</th>\n",
       "      <th>longestTimeSpentLiving</th>\n",
       "      <th>totalDamageDealt</th>\n",
       "      <th>magicDamageDealt</th>\n",
       "      <th>...</th>\n",
       "      <th>neutralMinionsKilledEnemyJungle</th>\n",
       "      <th>firstBloodKill</th>\n",
       "      <th>firstBloodAssist</th>\n",
       "      <th>firstTowerKill</th>\n",
       "      <th>firstTowerAssist</th>\n",
       "      <th>first10_xpm</th>\n",
       "      <th>first10_gpm</th>\n",
       "      <th>soloKills</th>\n",
       "      <th>earlyGanks</th>\n",
       "      <th>drakesKilled</th>\n",
       "    </tr>\n",
       "    <tr>\n",
       "      <th>Class</th>\n",
       "      <th></th>\n",
       "      <th></th>\n",
       "      <th></th>\n",
       "      <th></th>\n",
       "      <th></th>\n",
       "      <th></th>\n",
       "      <th></th>\n",
       "      <th></th>\n",
       "      <th></th>\n",
       "      <th></th>\n",
       "      <th></th>\n",
       "      <th></th>\n",
       "      <th></th>\n",
       "      <th></th>\n",
       "      <th></th>\n",
       "      <th></th>\n",
       "      <th></th>\n",
       "      <th></th>\n",
       "      <th></th>\n",
       "      <th></th>\n",
       "      <th></th>\n",
       "    </tr>\n",
       "  </thead>\n",
       "  <tbody>\n",
       "    <tr>\n",
       "      <th>0</th>\n",
       "      <td>0.534768</td>\n",
       "      <td>7.231082</td>\n",
       "      <td>6.141935</td>\n",
       "      <td>6.601940</td>\n",
       "      <td>3.196620</td>\n",
       "      <td>1.657331</td>\n",
       "      <td>1.710934</td>\n",
       "      <td>523.961056</td>\n",
       "      <td>128455.950023</td>\n",
       "      <td>61338.246133</td>\n",
       "      <td>...</td>\n",
       "      <td>2.415889</td>\n",
       "      <td>0.094317</td>\n",
       "      <td>0.0</td>\n",
       "      <td>0.071985</td>\n",
       "      <td>0.055026</td>\n",
       "      <td>362.639191</td>\n",
       "      <td>282.433367</td>\n",
       "      <td>0.692657</td>\n",
       "      <td>0.050133</td>\n",
       "      <td>0.197316</td>\n",
       "    </tr>\n",
       "    <tr>\n",
       "      <th>1</th>\n",
       "      <td>0.510697</td>\n",
       "      <td>6.870552</td>\n",
       "      <td>5.394268</td>\n",
       "      <td>6.212223</td>\n",
       "      <td>3.324403</td>\n",
       "      <td>1.573970</td>\n",
       "      <td>1.605745</td>\n",
       "      <td>563.996556</td>\n",
       "      <td>138491.540696</td>\n",
       "      <td>9218.265972</td>\n",
       "      <td>...</td>\n",
       "      <td>2.728653</td>\n",
       "      <td>0.142591</td>\n",
       "      <td>0.0</td>\n",
       "      <td>0.124285</td>\n",
       "      <td>0.056086</td>\n",
       "      <td>366.214734</td>\n",
       "      <td>284.773831</td>\n",
       "      <td>0.686490</td>\n",
       "      <td>0.043162</td>\n",
       "      <td>0.263578</td>\n",
       "    </tr>\n",
       "    <tr>\n",
       "      <th>2</th>\n",
       "      <td>0.504749</td>\n",
       "      <td>5.696161</td>\n",
       "      <td>5.253136</td>\n",
       "      <td>7.917039</td>\n",
       "      <td>2.830109</td>\n",
       "      <td>1.406265</td>\n",
       "      <td>1.343797</td>\n",
       "      <td>581.407458</td>\n",
       "      <td>118958.017767</td>\n",
       "      <td>58119.092096</td>\n",
       "      <td>...</td>\n",
       "      <td>1.505958</td>\n",
       "      <td>0.089813</td>\n",
       "      <td>0.0</td>\n",
       "      <td>0.078280</td>\n",
       "      <td>0.065374</td>\n",
       "      <td>365.780578</td>\n",
       "      <td>281.929186</td>\n",
       "      <td>0.596190</td>\n",
       "      <td>0.028411</td>\n",
       "      <td>0.140793</td>\n",
       "    </tr>\n",
       "    <tr>\n",
       "      <th>3</th>\n",
       "      <td>0.502236</td>\n",
       "      <td>5.939398</td>\n",
       "      <td>5.303801</td>\n",
       "      <td>7.105783</td>\n",
       "      <td>2.970148</td>\n",
       "      <td>1.503534</td>\n",
       "      <td>1.381198</td>\n",
       "      <td>577.887791</td>\n",
       "      <td>145684.131736</td>\n",
       "      <td>21112.003760</td>\n",
       "      <td>...</td>\n",
       "      <td>2.320029</td>\n",
       "      <td>0.101799</td>\n",
       "      <td>0.0</td>\n",
       "      <td>0.139872</td>\n",
       "      <td>0.055545</td>\n",
       "      <td>366.575414</td>\n",
       "      <td>283.231749</td>\n",
       "      <td>0.495683</td>\n",
       "      <td>0.034015</td>\n",
       "      <td>0.195676</td>\n",
       "    </tr>\n",
       "  </tbody>\n",
       "</table>\n",
       "<p>4 rows × 39 columns</p>\n",
       "</div>"
      ],
      "text/plain": [
       "         Result     kills    deaths   assists  largestKillingSpree  \\\n",
       "Class                                                                \n",
       "0      0.534768  7.231082  6.141935  6.601940             3.196620   \n",
       "1      0.510697  6.870552  5.394268  6.212223             3.324403   \n",
       "2      0.504749  5.696161  5.253136  7.917039             2.830109   \n",
       "3      0.502236  5.939398  5.303801  7.105783             2.970148   \n",
       "\n",
       "       largestMultiKill  killingSprees  longestTimeSpentLiving  \\\n",
       "Class                                                            \n",
       "0              1.657331       1.710934              523.961056   \n",
       "1              1.573970       1.605745              563.996556   \n",
       "2              1.406265       1.343797              581.407458   \n",
       "3              1.503534       1.381198              577.887791   \n",
       "\n",
       "       totalDamageDealt  magicDamageDealt  ...  \\\n",
       "Class                                      ...   \n",
       "0         128455.950023      61338.246133  ...   \n",
       "1         138491.540696       9218.265972  ...   \n",
       "2         118958.017767      58119.092096  ...   \n",
       "3         145684.131736      21112.003760  ...   \n",
       "\n",
       "       neutralMinionsKilledEnemyJungle  firstBloodKill  firstBloodAssist  \\\n",
       "Class                                                                      \n",
       "0                             2.415889        0.094317               0.0   \n",
       "1                             2.728653        0.142591               0.0   \n",
       "2                             1.505958        0.089813               0.0   \n",
       "3                             2.320029        0.101799               0.0   \n",
       "\n",
       "       firstTowerKill  firstTowerAssist  first10_xpm  first10_gpm  soloKills  \\\n",
       "Class                                                                          \n",
       "0            0.071985          0.055026   362.639191   282.433367   0.692657   \n",
       "1            0.124285          0.056086   366.214734   284.773831   0.686490   \n",
       "2            0.078280          0.065374   365.780578   281.929186   0.596190   \n",
       "3            0.139872          0.055545   366.575414   283.231749   0.495683   \n",
       "\n",
       "       earlyGanks  drakesKilled  \n",
       "Class                            \n",
       "0        0.050133      0.197316  \n",
       "1        0.043162      0.263578  \n",
       "2        0.028411      0.140793  \n",
       "3        0.034015      0.195676  \n",
       "\n",
       "[4 rows x 39 columns]"
      ]
     },
     "execution_count": 25,
     "metadata": {},
     "output_type": "execute_result"
    }
   ],
   "source": [
    "# The average statistics for each class\n",
    "stats_df"
   ]
  },
  {
   "cell_type": "code",
   "execution_count": 9,
   "metadata": {},
   "outputs": [
    {
     "name": "stderr",
     "output_type": "stream",
     "text": [
      "C:\\Users\\Jack Wills\\Anaconda3\\lib\\site-packages\\ipykernel_launcher.py:96: RuntimeWarning: invalid value encountered in double_scalars\n"
     ]
    },
    {
     "data": {
      "text/plain": [
       "{'neutralMinionsKilledTeamJungle': (2.75, 9.286, 3.3726),\n",
       " 'largestCriticalStrike': (2.44, 201.8767, 82.8721),\n",
       " 'magicDamageDealtToChampions': (2.04, 11468.2898, 5616.3885),\n",
       " 'trueDamageDealtToChampions': (1.55, 1989.5481, 1282.797),\n",
       " 'damageDealtToObjectives': (1.36, 10418.1406, 7660.4017),\n",
       " 'firstBloodAssist': (nan, 0.0, 0.0),\n",
       " 'drakesKilled': (2.33, 0.1973, 0.0847),\n",
       " 'magicDamageDealt': (1.81, 61338.2461, 33948.6284),\n",
       " 'neutralMinionsKilled': (1.67, 15.2795, 9.1418),\n",
       " 'killingSprees': (1.47, 1.7109, 1.1612),\n",
       " 'kills': (1.42, 7.2311, 5.0916),\n",
       " 'totalDamageDealtToChampions': (1.29, 21258.0022, 16516.245),\n",
       " 'largestMultiKill': (1.26, 1.6573, 1.315),\n",
       " 'largestKillingSpree': (1.25, 3.1966, 2.5641),\n",
       " 'trueDamageDealt': (1.21, 9114.2616, 7538.5123),\n",
       " 'assists': (1.2, 6.6019, 5.5171),\n",
       " 'deaths': (1.18, 6.1419, 5.2029),\n",
       " 'goldEarned': (1.08, 11693.7486, 10832.7723),\n",
       " 'inhibitorKills': (1.06, 0.1863, 0.176),\n",
       " 'Result': (1.05, 0.5348, 0.5074),\n",
       " 'totalTimeCrowdControlDealt': (1.04, 231.8851, 223.9104),\n",
       " 'totalDamageDealt': (1.04, 128455.95, 124052.5547),\n",
       " 'totalMinionsKilled': (1.02, 173.0637, 170.2526),\n",
       " 'first10_gpm': (1.0, 282.4334, 282.6026),\n",
       " 'first10_xpm': (1.0, 362.6392, 363.6761),\n",
       " 'firstTowerAssist': (1.0, 0.055, 0.0552),\n",
       " 'neutralMinionsKilledEnemyJungle': (0.97, 2.4159, 2.4913),\n",
       " 'firstBloodKill': (0.96, 0.0943, 0.098),\n",
       " 'longestTimeSpentLiving': (0.9, 523.9611, 580.9603),\n",
       " 'turretKills': (0.88, 1.2216, 1.3915),\n",
       " 'damageDealtToTurrets': (0.82, 3185.1619, 3887.3995),\n",
       " 'totalHeal': (0.81, 4162.844, 5160.4172),\n",
       " 'totalDamageTaken': (0.8, 19029.3924, 23926.664),\n",
       " 'timeCCingOthers': (0.77, 15.9375, 20.7292),\n",
       " 'physicalDamageDealt': (0.7, 58002.5764, 82564.6542),\n",
       " 'firstTowerKill': (0.67, 0.072, 0.1068),\n",
       " 'earlyGanks': (0.6, 0.0501, 0.0841),\n",
       " 'damageSelfMitigated': (0.41, 9816.7249, 23879.6685),\n",
       " 'soloKills': (0.4, 0.6927, 1.741)}"
      ]
     },
     "execution_count": 9,
     "metadata": {},
     "output_type": "execute_result"
    }
   ],
   "source": [
    "# A list of all the statistics and how the class is different, ordered from greatest from mean to smallest from mean\n",
    "sort_stats_by_perc_diff(stats_df, avg_lane_stats, 'top', 0)"
   ]
  },
  {
   "cell_type": "code",
   "execution_count": 10,
   "metadata": {},
   "outputs": [
    {
     "data": {
      "text/plain": [
       "['Twitch', 'Karthus', 'Vayne', 'Cassiopeia', 'KogMaw']"
      ]
     },
     "execution_count": 10,
     "metadata": {},
     "output_type": "execute_result"
    }
   ],
   "source": [
    "# To see the Champs in the Class\n",
    "mega_df[mega_df['Class']== 0]['Champion'].to_list()"
   ]
  },
  {
   "cell_type": "code",
   "execution_count": null,
   "metadata": {},
   "outputs": [],
   "source": []
  },
  {
   "cell_type": "code",
   "execution_count": null,
   "metadata": {},
   "outputs": [],
   "source": []
  }
 ],
 "metadata": {
  "kernelspec": {
   "display_name": "Python 3",
   "language": "python",
   "name": "python3"
  },
  "language_info": {
   "codemirror_mode": {
    "name": "ipython",
    "version": 3
   },
   "file_extension": ".py",
   "mimetype": "text/x-python",
   "name": "python",
   "nbconvert_exporter": "python",
   "pygments_lexer": "ipython3",
   "version": "3.7.5"
  }
 },
 "nbformat": 4,
 "nbformat_minor": 2
}
